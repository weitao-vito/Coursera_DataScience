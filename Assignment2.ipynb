{
  "metadata": {
    "language_info": {
      "codemirror_mode": {
        "name": "python",
        "version": 3
      },
      "file_extension": ".py",
      "mimetype": "text/x-python",
      "name": "python",
      "nbconvert_exporter": "python",
      "pygments_lexer": "ipython3",
      "version": "3.8"
    },
    "kernelspec": {
      "name": "python",
      "display_name": "Python (Pyodide)",
      "language": "python"
    }
  },
  "nbformat_minor": 4,
  "nbformat": 4,
  "cells": [
    {
      "cell_type": "markdown",
      "source": "<h1>My Jupyter Notebook on IBM Watson Studio<h1>",
      "metadata": {}
    },
    {
      "cell_type": "markdown",
      "source": "**Weitao Chen** <br>\nVehicle Engineer ",
      "metadata": {}
    },
    {
      "cell_type": "markdown",
      "source": "*I am interested in data science because it can provide me a new way to see problems and equip me with needed toolsets.*",
      "metadata": {}
    },
    {
      "cell_type": "markdown",
      "source": "<H3>My code in Cell5 shows all prime numbers within 100 <H3>",
      "metadata": {}
    },
    {
      "cell_type": "code",
      "source": "for num in range(1, 101):\n    is_prime = True\n    for i in range(2, num):\n        if num % i == 0:\n            is_prime = False\n            break\n    if is_prime:\n        print(num)",
      "metadata": {
        "trusted": true
      },
      "execution_count": 9,
      "outputs": [
        {
          "name": "stdout",
          "text": "1\n2\n3\n5\n7\n11\n13\n17\n19\n23\n29\n31\n37\n41\n43\n47\n53\n59\n61\n67\n71\n73\n79\n83\n89\n97\n",
          "output_type": "stream"
        }
      ]
    },
    {
      "cell_type": "markdown",
      "source": "| header | header |header |\n| ------ | ------ |------ |\n| cell | cell | cell |\n| ( - )  <br> ( - ) <br> ( - )| 1. <br> 2. <br>  3. |  <a href=\"https://scholar.google.com/\">Link to Google scholar</a> |\n| value | value | value |",
      "metadata": {}
    },
    {
      "cell_type": "code",
      "source": "",
      "metadata": {},
      "execution_count": null,
      "outputs": []
    }
  ]
}